{
 "cells": [
  {
   "cell_type": "markdown",
   "metadata": {},
   "source": [
    "# Quantum Dice\n",
    "\n",
    "You are given several unusual 3-sided dice which, when rolled, show either 1, 2, or 3 spots.\n",
    "\n",
    "There are three games played iwth these dice: *Distinguishable*, *Bosons*, and *Fermioons*. In each of htese games, the player rolls one die at a time, starting over if requird by the rules, until a legal combination occurs. In *Distinguishable*, all rolls are legal. In *Bosons*, a roll is legal only if the new number is larger or equal to the preceding number. In *Fermions*, a roll is legal only if hte new number is strictly larger than the preceding number.\n",
    "\n",
    "See figure for table of possibilities after rolling two dice.\n",
    "\n",
    "Our dice rules ar ethe same ones that govern quantum statistics of identical particles."
   ]
  },
  {
   "cell_type": "code",
   "execution_count": 1,
   "metadata": {},
   "outputs": [],
   "source": [
    "import numpy as np\n",
    "import matplotlib.pyplot as plt\n",
    "import seaborn as sns\n",
    "import pandas as pd"
   ]
  },
  {
   "cell_type": "code",
   "execution_count": 2,
   "metadata": {},
   "outputs": [],
   "source": [
    "from numpy.random import randint\n",
    "from numpy.random import seed"
   ]
  },
  {
   "cell_type": "code",
   "execution_count": 3,
   "metadata": {},
   "outputs": [
    {
     "name": "stdout",
     "output_type": "stream",
     "text": [
      "Should see 3 True values:\n",
      "True\n",
      "True\n",
      "True\n"
     ]
    }
   ],
   "source": [
    "# Define classification functions\n",
    "\n",
    "def roll_is_dist(roll):\n",
    "    \"\"\"Return a boolean: can this roll outcome be classified as 'distinguishable'\n",
    "    \"\"\"\n",
    "    return True\n",
    "\n",
    "def roll_is_ferm(roll):\n",
    "    \"\"\"Return a boolean: can this roll outcome be classified as 'fermi'\n",
    "    \"\"\"\n",
    "    ndice = len(roll)\n",
    "    is_fermi = True\n",
    "    # Ensure that roll j+1 >= roll j\n",
    "    for j in range(len(roll)-1):\n",
    "        if(roll[j+1] <= roll[j]):\n",
    "            is_fermi = False\n",
    "            break\n",
    "    return is_fermi\n",
    "\n",
    "def roll_is_bos(roll):\n",
    "    \"\"\"Return a boolean: can this roll outcome be classified as 'boson'\n",
    "    \"\"\"\n",
    "    ndice = len(roll)\n",
    "    is_bos = True\n",
    "    # Ensure that roll j+1 > roll j\n",
    "    for j in range(len(roll)-1):\n",
    "        if(roll[j+1] < roll[j]):\n",
    "            is_bos = False\n",
    "            break\n",
    "    return is_bos\n",
    "\n",
    "print(\"Should see 3 True values:\")\n",
    "print(roll_is_dist(np.array([3,2,1])))\n",
    "print(roll_is_bos(np.array([1,1,2])))\n",
    "print(roll_is_ferm(np.array([1,2,3])))"
   ]
  },
  {
   "cell_type": "code",
   "execution_count": 4,
   "metadata": {},
   "outputs": [],
   "source": [
    "# Define roll functions\n",
    "\n",
    "def quantum_rolls(n, ndice, rolltype):\n",
    "    \"\"\"Roll ndice dice n times the game rolltype\n",
    "    \"\"\"\n",
    "    if(rolltype is 'dist' or rolltype is 'distinguishable'):\n",
    "        return dist_rolls(n, ndice)\n",
    "    elif(rolltype is 'ferm' or rolltype is 'fermion'):\n",
    "        return ferm_rolls(n, ndice)\n",
    "    elif(rolltype is 'bos' or rolltype is 'boson'):\n",
    "        return bos_rolls(n, ndice)\n",
    "    else:\n",
    "        raise Exception(\"Roll type not recognized: %s\"%(rolltype))\n",
    "    \n",
    "def dist_rolls(n, ndice):\n",
    "    \"\"\"Roll ndice dice n times for the game 'distinguishable'\n",
    "    \"\"\"\n",
    "    return randint(1, 3+1, size=(n,ndice))\n",
    "\n",
    "def ferm_rolls(n, ndice):\n",
    "    \"\"\"Roll ndice dice n times for the game 'fermi'\n",
    "    \"\"\"\n",
    "    if(ndice>3):\n",
    "        raise Exception(\"Error: max 3 dice, you specified %d\"%(ndice))\n",
    "    rolls = []\n",
    "    for i in range(n):\n",
    "        # Keep rolling until we get a 'fermi' roll\n",
    "        roll = randint(1, 3+1, size=(ndice,))\n",
    "        while(roll_is_ferm(roll) is False):\n",
    "            roll = randint(1, 3+1, size=(ndice,))\n",
    "        # Add it to list of rolls results\n",
    "        rolls.append(roll)\n",
    "    rolls = np.array(rolls)\n",
    "    return rolls\n",
    "\n",
    "def bos_rolls(n, ndice):\n",
    "    \"\"\"Roll ndice dice n times for the game 'boson'\n",
    "    \"\"\"\n",
    "    rolls = []\n",
    "    for i in range(n):\n",
    "        # Keep rolling until we get a 'boson' roll\n",
    "        roll = randint(1, 3+1, size=(ndice,))\n",
    "        while(roll_is_bos(roll) is False):\n",
    "            roll = randint(1, 3+1, size=(ndice,))\n",
    "        # Add it to the list of rolls results\n",
    "        rolls.append(roll)\n",
    "    rolls = np.array(rolls)\n",
    "    return rolls"
   ]
  },
  {
   "cell_type": "code",
   "execution_count": 5,
   "metadata": {
    "scrolled": true
   },
   "outputs": [
    {
     "data": {
      "text/plain": [
       "array([[2, 2, 3],\n",
       "       [1, 2, 1],\n",
       "       [3, 3, 1],\n",
       "       [1, 2, 1],\n",
       "       [3, 2, 1]])"
      ]
     },
     "execution_count": 5,
     "metadata": {},
     "output_type": "execute_result"
    }
   ],
   "source": [
    "quantum_rolls(5, 3, 'dist')"
   ]
  },
  {
   "cell_type": "code",
   "execution_count": 6,
   "metadata": {},
   "outputs": [
    {
     "data": {
      "text/plain": [
       "array([[2, 2, 2],\n",
       "       [1, 2, 2],\n",
       "       [1, 1, 3],\n",
       "       [1, 1, 2],\n",
       "       [3, 3, 3]])"
      ]
     },
     "execution_count": 6,
     "metadata": {},
     "output_type": "execute_result"
    }
   ],
   "source": [
    "quantum_rolls(5, 3, 'bos')"
   ]
  },
  {
   "cell_type": "code",
   "execution_count": 7,
   "metadata": {},
   "outputs": [
    {
     "data": {
      "text/plain": [
       "array([[2, 3],\n",
       "       [1, 3],\n",
       "       [1, 2],\n",
       "       [2, 3],\n",
       "       [1, 2]])"
      ]
     },
     "execution_count": 7,
     "metadata": {},
     "output_type": "execute_result"
    }
   ],
   "source": [
    "quantum_rolls(5, 2, 'ferm')"
   ]
  },
  {
   "cell_type": "code",
   "execution_count": 33,
   "metadata": {},
   "outputs": [],
   "source": [
    "# Define score functions\n",
    "\n",
    "def get_outcomes():\n",
    "    return np.array([[2,3,4],[3,4,5],[4,5,6]])\n",
    "\n",
    "def roll_dice(n):\n",
    "    return randint(1,3+1,size=(n,3))\n",
    "\n",
    "def dist_score_outcomes(roll1,roll2):\n",
    "    return get_outcomes()[roll1-1][roll2-1]\n",
    "\n",
    "def bos_score_outcomes(roll1,roll2):\n",
    "    if(roll1 <= roll2):\n",
    "        return get_outcomes()[roll1-1][roll2-1]\n",
    "    else:\n",
    "        return 0\n",
    "\n",
    "def ferm_score_outcomes(roll1,roll2):\n",
    "    if(roll1 < roll2):\n",
    "        return get_outcomes()[roll1-1][roll2-1]\n",
    "    else:\n",
    "        return 0\n",
    "\n",
    "def score_rolls(rolls, rolltype):\n",
    "    if(rolltype is 'dist' or rolltype is 'distinguishable'):\n",
    "        score_outcomes = dist_score_outcomes\n",
    "    elif(rolltype is 'bos' or rolltype is 'boson'):\n",
    "        score_outcomes = bos_score_outcomes\n",
    "    elif(rolltype is 'ferm' or rolltype is 'fermion'):\n",
    "        score_outcomes = ferm_score_outcomes\n",
    "    else:\n",
    "        raise Exception(\"Roll type not recognized: %s\"%(rolltype))\n",
    "    \n",
    "    total_score = np.zeros(len(rolls),)\n",
    "    for i in range(len(rolls)):\n",
    "        roll = rolls[i,:]\n",
    "        for j in range(len(roll)-1):\n",
    "            total_score[i] += score_outcomes(roll[j], roll[j+1])\n",
    "\n",
    "    return total_score"
   ]
  },
  {
   "cell_type": "code",
   "execution_count": 34,
   "metadata": {},
   "outputs": [
    {
     "name": "stdout",
     "output_type": "stream",
     "text": [
      "[ 11.  10.   5.  10.  12.]\n"
     ]
    }
   ],
   "source": [
    "t = 'dist'\n",
    "r = quantum_rolls(5, 3, t)\n",
    "print(score_rolls(r, t))"
   ]
  },
  {
   "cell_type": "code",
   "execution_count": 35,
   "metadata": {},
   "outputs": [
    {
     "name": "stdout",
     "output_type": "stream",
     "text": [
      "[  8.   6.   5.   6.  10.]\n"
     ]
    }
   ],
   "source": [
    "t = 'bos'\n",
    "r = quantum_rolls(5, 3, t)\n",
    "print(score_rolls(r, t))"
   ]
  },
  {
   "cell_type": "code",
   "execution_count": 36,
   "metadata": {},
   "outputs": [
    {
     "name": "stdout",
     "output_type": "stream",
     "text": [
      "[ 8.  8.  8.  8.  8.]\n"
     ]
    }
   ],
   "source": [
    "t = 'ferm'\n",
    "r = quantum_rolls(5, 3, t)\n",
    "print(score_rolls(r, t))"
   ]
  },
  {
   "cell_type": "code",
   "execution_count": 37,
   "metadata": {},
   "outputs": [
    {
     "name": "stdout",
     "output_type": "stream",
     "text": [
      "[ 3.  4.  5.  4.  5.]\n"
     ]
    }
   ],
   "source": [
    "t = 'dist'\n",
    "r = quantum_rolls(5, 2, t)\n",
    "print(score_rolls(r, t))"
   ]
  },
  {
   "cell_type": "markdown",
   "metadata": {},
   "source": [
    "## Part A\n",
    "\n",
    "Presuming fair dice (each of the faces has a 1/3 chance of appearing)...\n",
    "\n",
    "For a legal turn rolling two dice in Bosons, what is probability $\\rho(4)$ of rolling a 4?\n",
    "\n",
    "For a legal turn rolling two dice in Fermion, what is probability $\\rho(4)$ of rolling a 4?"
   ]
  },
  {
   "cell_type": "code",
   "execution_count": 38,
   "metadata": {},
   "outputs": [
    {
     "name": "stdout",
     "output_type": "stream",
     "text": [
      "Rho(4) for Boson: 2 / 6 = 0.3333\n",
      "Rho(4) for Fermion: 1 / 3 = 0.3333\n"
     ]
    }
   ],
   "source": [
    "# Analytical calculation:\n",
    "\n",
    "o = get_outcomes()\n",
    "\n",
    "bos_n4 = 2\n",
    "ferm_n4 = 1\n",
    "\n",
    "bos_sum = 0\n",
    "ferm_sum = 0\n",
    "for i in range(o.shape[0]):\n",
    "    for j in range(o.shape[1]):\n",
    "        if(i <= j):\n",
    "            bos_sum += 1\n",
    "        if(i < j):\n",
    "            ferm_sum += 1\n",
    "\n",
    "print(\"Rho(4) for Boson: %d / %d = %0.4f\"%(bos_n4, bos_sum, bos_n4/bos_sum))\n",
    "print(\"Rho(4) for Fermion: %d / %d = %0.4f\"%(ferm_n4, ferm_sum, ferm_n4/ferm_sum))"
   ]
  },
  {
   "cell_type": "code",
   "execution_count": 39,
   "metadata": {},
   "outputs": [
    {
     "name": "stdout",
     "output_type": "stream",
     "text": [
      "Rho(4) for Boson: 3409 / 10000 = 0.3409\n",
      "Rho(4) for Boson: 3403 / 10000 = 0.3403\n"
     ]
    }
   ],
   "source": [
    "# Computational verification:\n",
    "\n",
    "total = 10000\n",
    "\n",
    "rf = quantum_rolls(total, 2, 'ferm')\n",
    "rb = quantum_rolls(total, 2, 'bos')\n",
    "\n",
    "def is_four(roll):\n",
    "    if(roll[0]+roll[1]==4):\n",
    "        return True\n",
    "    return False\n",
    "\n",
    "bos_n4_comp = np.sum(np.apply_along_axis(arr=rb, func1d=is_four, axis=1))\n",
    "print(\"Rho(4) for Boson: %d / %d = %0.4f\"%(bos_n4_comp, total, bos_n4_comp/total))\n",
    "\n",
    "ferm_n4_comp = np.sum(np.apply_along_axis(arr=rf, func1d=is_four, axis=1))\n",
    "print(\"Rho(4) for Boson: %d / %d = %0.4f\"%(ferm_n4_comp, total, ferm_n4_comp/total))"
   ]
  },
  {
   "cell_type": "markdown",
   "metadata": {},
   "source": [
    "## Part B\n",
    "\n",
    "For a legal turn rolling 3 different 3-sided dice in Fermions, what is probability $\\rho(6)$ of rolling a 6?\n",
    "\n",
    "(The answer is trivial: the only 3-dice outcome for \"Fermions\" is a 6.)"
   ]
  },
  {
   "cell_type": "markdown",
   "metadata": {},
   "source": [
    "## Part C\n",
    "\n",
    "In a turn of three rolls, what is the factor by which the probability of getting triples in \"Bosons\" is enhanced over that in \"Distinguishable\"?"
   ]
  },
  {
   "cell_type": "code",
   "execution_count": 54,
   "metadata": {},
   "outputs": [],
   "source": [
    "def count_identical(rolll):\n",
    "    identical = 0\n",
    "    for i in range(len(rolll)):\n",
    "        if(len(np.unique(rolll[i][:]))==1):\n",
    "            identical += 1\n",
    "    return identical"
   ]
  },
  {
   "cell_type": "code",
   "execution_count": 55,
   "metadata": {},
   "outputs": [
    {
     "name": "stdout",
     "output_type": "stream",
     "text": [
      "Rho(triples) for Dist: 1161 / 10000 = 0.1161\n",
      "Rho(triples) for Boson: 3014 / 10000 = 0.3014\n"
     ]
    }
   ],
   "source": [
    "n = 10000\n",
    "\n",
    "t = 'dist'\n",
    "r = quantum_rolls(n, 3, t)\n",
    "dist_nt_comp = count_identical(r)\n",
    "print(\"Rho(triples) for Dist: %d / %d = %0.4f\"%(dist_nt_comp, n, dist_nt_comp/n))\n",
    "\n",
    "t = 'bos'\n",
    "r = quantum_rolls(n, 3, t)\n",
    "bos_nt_comp = count_identical(r)\n",
    "print(\"Rho(triples) for Boson: %d / %d = %0.4f\"%(bos_nt_comp, n, bos_nt_comp/n))"
   ]
  },
  {
   "cell_type": "markdown",
   "metadata": {},
   "source": [
    "In a turn of M rolls, what is the enhancement factor for generating an M-tuple (all rolls having same number of dots showing)?"
   ]
  },
  {
   "cell_type": "code",
   "execution_count": 76,
   "metadata": {},
   "outputs": [
    {
     "name": "stdout",
     "output_type": "stream",
     "text": [
      "Number of dice = 2\n",
      "Rho(triples) for Dist: 3309 / 10000 = 0.3309\n",
      "Rho(triples) for Boson: 4926 / 10000 = 0.4926\n",
      "\n",
      "Number of dice = 3\n",
      "Rho(triples) for Dist: 1127 / 10000 = 0.1127\n",
      "Rho(triples) for Boson: 2932 / 10000 = 0.2932\n",
      "\n",
      "Number of dice = 4\n",
      "Rho(triples) for Dist: 367 / 10000 = 0.0367\n",
      "Rho(triples) for Boson: 1963 / 10000 = 0.1963\n",
      "\n",
      "Number of dice = 5\n",
      "Rho(triples) for Dist: 132 / 10000 = 0.0132\n",
      "Rho(triples) for Boson: 1412 / 10000 = 0.1412\n",
      "\n",
      "Number of dice = 6\n",
      "Rho(triples) for Dist: 31 / 10000 = 0.0031\n",
      "Rho(triples) for Boson: 1103 / 10000 = 0.1103\n",
      "\n",
      "Number of dice = 7\n",
      "Rho(triples) for Dist: 12 / 10000 = 0.0012\n",
      "Rho(triples) for Boson: 835 / 10000 = 0.0835\n",
      "\n"
     ]
    }
   ],
   "source": [
    "xx = []\n",
    "dist_yy = []\n",
    "bos_yy = []\n",
    "for m in range(2,8):\n",
    "    n = 10000\n",
    "    \n",
    "    xx.append(m)\n",
    "    print(\"Number of dice = %d\"%(m))\n",
    "\n",
    "    t = 'dist'\n",
    "    r = quantum_rolls(n, m, t)\n",
    "    dist_nt_comp = count_identical(r)\n",
    "    ratio = dist_nt_comp/n\n",
    "    print(\"Rho(triples) for Dist: %d / %d = %0.4f\"%(dist_nt_comp, n, ratio))\n",
    "    dist_yy.append(ratio)\n",
    "    \n",
    "    t = 'bos'\n",
    "    r = quantum_rolls(n, m, t)\n",
    "    bos_nt_comp = count_identical(r)\n",
    "    ratio = bos_nt_comp/n\n",
    "    print(\"Rho(triples) for Boson: %d / %d = %0.4f\"%(bos_nt_comp, n, ratio))\n",
    "    bos_yy.append(ratio)\n",
    "    \n",
    "    print()\n",
    "\n",
    "xx = np.array(xx)\n",
    "dist_yy = np.array(dist_yy)\n",
    "bos_yy = np.array(bos_yy)"
   ]
  },
  {
   "cell_type": "code",
   "execution_count": 77,
   "metadata": {},
   "outputs": [
    {
     "data": {
      "image/png": "[encoded data removed]",
      "text/plain": [
       "<matplotlib.figure.Figure at 0x1138e28d0>"
      ]
     },
     "metadata": {},
     "output_type": "display_data"
    }
   ],
   "source": [
    "fig = plt.figure(figsize=(12,4))\n",
    "ax1, ax2 = [fig.add_subplot(1,2,i+1) for i in range(2)]\n",
    "\n",
    "ax1.plot(xx, dist_yy)\n",
    "ax1.plot(xx, bos_yy)\n",
    "ax1.set_xlabel(\"Number of dice M\")\n",
    "ax1.set_ylabel(\"Percentage of Triplets\")\n",
    "\n",
    "ax2.plot(xx, bos_yy/dist_yy)\n",
    "ax2.set_xlabel(\"Number of dice M\")\n",
    "ax2.set_ylabel(\"Ratio: Triplets in Bosons/Triplets in Distinguishable\")\n",
    "\n",
    "plt.show()"
   ]
  },
  {
   "cell_type": "code",
   "execution_count": null,
   "metadata": {},
   "outputs": [],
   "source": []
  },
  {
   "cell_type": "code",
   "execution_count": null,
   "metadata": {},
   "outputs": [],
   "source": []
  }
 ],
 "metadata": {
  "kernelspec": {
   "display_name": "Python 3",
   "language": "python",
   "name": "python3"
  },
  "language_info": {
   "codemirror_mode": {
    "name": "ipython",
    "version": 3
   },
   "file_extension": ".py",
   "mimetype": "text/x-python",
   "name": "python",
   "nbconvert_exporter": "python",
   "pygments_lexer": "ipython3",
   "version": "3.6.3"
  }
 },
 "nbformat": 4,
 "nbformat_minor": 2
}
