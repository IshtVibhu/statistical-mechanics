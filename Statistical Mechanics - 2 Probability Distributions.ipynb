{
 "cells": [
  {
   "cell_type": "markdown",
   "metadata": {},
   "source": [
    "# Probability Distributions\n",
    "\n",
    "Three most common probaiblity distributions are:\n",
    "* Uniform\n",
    "* Exponential\n",
    "* Gaussian\n",
    "\n",
    "For uniform distribution:\n",
    "\n",
    "$$\n",
    "\\rho_{uniform}(x) = \\dfrac{1}{b-a} \\quad \\mbox{ for } a \\leq x < b\n",
    "$$\n",
    "\n",
    "For exponential distribution:\n",
    "\n",
    "$$\n",
    "\\rho_{exponential}(t) = \\dfrac{ e^{-\\frac{t}{\\tau}} }{ \\tau } \\mbox{ for } t \\geq 0\n",
    "$$\n",
    "\n",
    "For Gaussian distribution:\n",
    "\n",
    "$$\n",
    "\\rho_{Gaussian}(v) = \\dfrac{1}{\\sqrt{2 \\pi \\sigma}} e^{-\\frac{v^2}{2\\sigma^2}}\n",
    "$$\n",
    "\n",
    "where $\\rho$ denotes the probability density function (PDF)."
   ]
  },
  {
   "cell_type": "code",
   "execution_count": 50,
   "metadata": {},
   "outputs": [],
   "source": [
    "import numpy as np\n",
    "import matplotlib.pyplot as plt"
   ]
  },
  {
   "cell_type": "markdown",
   "metadata": {},
   "source": [
    "## Part A: Likelihoods\n",
    "\n",
    "What is the probability that a random number uniform on $[0,1)$ will happen to lie between x = 0.7 and x = 0.75?\n",
    "\n",
    "**Answer:**\n",
    "\n",
    "$$\n",
    "P(0.7 \\leq 0.75) = \\dfrac{ \\int_{0.7}^{0.75} \\rho(x) dx }{ \\int_{0}^{1} \\rho(x) dx } = \\dfrac{ 0.75-0.7 }{ 1 - 0 } = 0.05\n",
    "$$"
   ]
  },
  {
   "cell_type": "code",
   "execution_count": 56,
   "metadata": {},
   "outputs": [
    {
     "name": "stdout",
     "output_type": "stream",
     "text": [
      "Percentage = 493 / 10000 = 0.0493\n"
     ]
    }
   ],
   "source": [
    "n = 10000\n",
    "sim = np.random.rand(n,)\n",
    "inside = len(sim[(sim>0.7)&(sim<0.75)])\n",
    "print(\"Percentage = %d / %d = %0.4f\"%(inside, n, inside/n))"
   ]
  },
  {
   "cell_type": "markdown",
   "metadata": {},
   "source": [
    "What is probability that waiting time for radioactive decay of nucleus is more than twice the exponential decay time $\\tau$?\n",
    "\n",
    "**Answer:**\n",
    "\n",
    "$$\n",
    "P(t > 2 \\tau) = \n",
    "\\dfrac{  \\int_{2 \\tau}^{\\infty} \\exp(-t/\\tau) / \\tau dt  }{  \\int_{0}^{\\infty} \\exp(-t/\\tau) / \\tau dt  }\n",
    "$$"
   ]
  },
  {
   "cell_type": "markdown",
   "metadata": {},
   "source": [
    "Denominator evaluates to:\n",
    "\n",
    "$$\n",
    "\\int_{0}^{\\infty} \\exp(-t/\\tau) / \\tau dt = 0 + e^0 = 1\n",
    "$$\n",
    "\n",
    "Numerator evaluates to:\n",
    "\n",
    "$$\n",
    "\\int_{2 \\tau}^{\\infty} \\exp(-t / \\tau) / \\tau dt \n",
    "= \\left[ -e^{-t/\\tau} \\right]_{2\\tau}^{\\infty} = 0 + e^{-2}\n",
    "$$\n",
    "\n",
    "for an overall probability of:\n",
    "\n",
    "$$\n",
    "P(t > 2 \\tau) = \\dfrac{1}{e^{2}} \\sim 0.135\n",
    "$$"
   ]
  },
  {
   "cell_type": "code",
   "execution_count": 57,
   "metadata": {},
   "outputs": [
    {
     "name": "stdout",
     "output_type": "stream",
     "text": [
      "0.135335283237\n"
     ]
    }
   ],
   "source": [
    "print(1.0/np.exp(2))"
   ]
  },
  {
   "cell_type": "code",
   "execution_count": 58,
   "metadata": {},
   "outputs": [
    {
     "name": "stdout",
     "output_type": "stream",
     "text": [
      "Percentage = 1332 / 10000 = 0.1332\n"
     ]
    }
   ],
   "source": [
    "tau = 1\n",
    "n = 10000\n",
    "sim = np.random.exponential(scale=tau, size=(n,))\n",
    "inside = len(sim[sim>2*tau])\n",
    "print(\"Percentage = %d / %d = %0.4f\"%(inside, n, inside/n))"
   ]
  },
  {
   "cell_type": "markdown",
   "metadata": {},
   "source": [
    "What is probability that your score on an exam with a Gaussian distribution is greater than $2 \\sigma$ above the mean?\n",
    "\n",
    "Note:\n",
    "\n",
    "$$\n",
    "\\int_{2}^{\\infty} \\frac{1}{\\sqrt{2 \\pi}} \\exp(-v^2/2) dv = \\dfrac{1 - \\mbox{erf}(\\sqrt{2}) }{ 2 } \\sim 0.023\n",
    "$$"
   ]
  },
  {
   "cell_type": "markdown",
   "metadata": {},
   "source": [
    "**Answer:**\n",
    "\n",
    "The probability of a score greater than $2 \\sigma$ above the mean is given by:\n",
    "\n",
    "$$\n",
    "P(x > 2 \\sigma) = \\dfrac{  \\int_{2 \\sigma}^{\\infty} \\rho_{Gaussian}(x) dx  }{  \\int_{-\\infty}^{\\infty} \\rho_{Gaussian}(x) dx  }\n",
    "$$"
   ]
  },
  {
   "cell_type": "markdown",
   "metadata": {},
   "source": [
    "The expression in the denominator is equal to 1.\n",
    "\n",
    "The expression in the numerator is equal to:\n",
    "\n",
    "$$\n",
    "\\dfrac{1}{ \\sqrt{2 \\pi \\sigma^2}} \\int_{2 \\sigma}^{\\infty} \\exp \\left( -\\dfrac{p^2}{2\\sigma^2} \\right) dp = \n",
    "\\dfrac{1}{ \\sqrt{2 \\pi \\sigma^2}} \\left[ \\int_{-\\infty}^{\\infty} \\exp \\left( -\\dfrac{p^2}{2\\sigma^2} \\right) dp \n",
    "- \\int_{-\\infty}^{2 \\sigma} \\exp \\left( -\\dfrac{p^2}{2\\sigma^2} \\right) dp \\right] \\\\\n",
    "= \\dfrac{1}{ \\sqrt{2 \\pi \\sigma^2}} \\left[ \\int_{0}^{\\infty} \\exp \\left( -\\dfrac{p^2}{2\\sigma^2} \\right) dp \n",
    "- \\int_{0}^{2\\sigma} \\exp \\left( -\\dfrac{p^2}{2\\sigma^2} \\right) dp \\right]\n",
    "$$\n",
    "\n",
    "Now the first term becomes:\n",
    "\n",
    "$$\n",
    "\\dfrac{1}{ \\sqrt{2 \\pi \\sigma^2}} \\int_{0}^{\\infty} \\exp \\left( -\\dfrac{p^2}{2\\sigma^2} \\right) dp = \\frac{1}{2}\n",
    "$$\n",
    "\n",
    "and the second integral can be evaluated:\n",
    "\n",
    "$$\n",
    "\\int_{-\\infty}^{2 \\sigma} \\dfrac{1}{2 \\pi \\sigma^2} \\exp \\left( -\\dfrac{p^2}{2\\sigma^2} \\right) dp = \\dfrac{1}{\\sqrt{\\pi}} \\int_{0}^{\\sqrt{2}} \\exp( -t^2 ) dt \\\\\n",
    "= \\dfrac{\\mbox{erf}(\\sqrt{2})}{2}\n",
    "$$\n",
    "\n",
    "Together, these make the overall integral evaluate to:\n",
    "\n",
    "$$\n",
    "\\dfrac{1}{ \\sqrt{2 \\pi \\sigma^2}} \\int_{2 \\sigma}^{\\infty} \\exp \\left( -\\dfrac{p^2}{2\\sigma^2} \\right) dp = \\dfrac{1 - \\mbox{erf}(\\sqrt{2})}{2}\n",
    "$$"
   ]
  },
  {
   "cell_type": "code",
   "execution_count": 59,
   "metadata": {},
   "outputs": [
    {
     "name": "stdout",
     "output_type": "stream",
     "text": [
      "0.0227501319482\n"
     ]
    }
   ],
   "source": [
    "from scipy.special import erf\n",
    "print((1-erf(np.sqrt(2)))/2)"
   ]
  },
  {
   "cell_type": "code",
   "execution_count": 60,
   "metadata": {},
   "outputs": [
    {
     "name": "stdout",
     "output_type": "stream",
     "text": [
      "Percentage = 238 / 10000 = 0.0238\n"
     ]
    }
   ],
   "source": [
    "n = 10000\n",
    "mu = 0\n",
    "sigma = 3\n",
    "sim = sigma*np.random.randn(n,) + mu\n",
    "inside = len(sim[sim>2*sigma])\n",
    "print(\"Percentage = %d / %d = %0.4f\"%(inside, n, inside/n))"
   ]
  },
  {
   "cell_type": "markdown",
   "metadata": {},
   "source": [
    "## Part B: Normalization, Mean, and Standard Deviation\n",
    "\n",
    "Show that these probability distributions are normalized: $\\int \\rho(x) dx = 1$.\n",
    "\n",
    "What is the mean $x_0$ of each distribution?\n",
    "\n",
    "What is the standard deviation $\\sigma$, where $\\sigma^2 = \\int \\left(x-x_0\\right)^2 \\rho(x) dx$?"
   ]
  },
  {
   "cell_type": "markdown",
   "metadata": {},
   "source": [
    "### Uniform Distribution\n",
    "\n",
    "Mean of uniform distribution is $\\dfrac{b+a}{2}$, and the variance is $V = \\dfrac{(b-a)^2}{12}$, making the standard deviation $\\sigma = \\dfrac{b - a}{2 \\sqrt{3}}$."
   ]
  },
  {
   "cell_type": "markdown",
   "metadata": {},
   "source": [
    "### Exponential Distribution\n",
    "\n",
    "The mean of the exponential distribution is $\\tau$, and the standard deviation $\\sigma = \\tau$ too.\n",
    "\n",
    "The variance is $\\tau^2$."
   ]
  },
  {
   "cell_type": "markdown",
   "metadata": {},
   "source": [
    "### Gaussian Distribution\n",
    "\n",
    "Mean of Gaussian distribution is $\\mu$, standard deviation is $\\sigma$."
   ]
  },
  {
   "cell_type": "markdown",
   "metadata": {},
   "source": [
    "## Sum of Uniform Random Variables"
   ]
  },
  {
   "cell_type": "code",
   "execution_count": 105,
   "metadata": {},
   "outputs": [],
   "source": [
    "import seaborn as sns"
   ]
  },
  {
   "cell_type": "code",
   "execution_count": 106,
   "metadata": {
    "scrolled": true
   },
   "outputs": [],
   "source": [
    "x1 = np.random.rand(10000,)\n",
    "x2 = np.random.rand(10000,)"
   ]
  },
  {
   "cell_type": "code",
   "execution_count": 113,
   "metadata": {},
   "outputs": [
    {
     "data": {
      "image/png": "[encoded data removed]",
      "text/plain": [
       "<matplotlib.figure.Figure at 0x115a38c88>"
      ]
     },
     "metadata": {},
     "output_type": "display_data"
    }
   ],
   "source": [
    "x = x1 + x2\n",
    "\n",
    "fig = plt.figure(figsize=(12,4))\n",
    "ax1, ax2, ax3 = [fig.add_subplot(1,3,i+1) for i in range(3)]\n",
    "\n",
    "ax1.hist(x1, normed=True, bins=25)\n",
    "ax2.hist(x2, normed=True, bins=25)\n",
    "ax3.hist(x,  normed=True, bins=25)\n",
    "\n",
    "ax1.set_xlabel(r'$x_1$')\n",
    "ax2.set_xlabel(r'$x_2$')\n",
    "ax3.set_xlabel(r'$x_1 + x_2$')\n",
    "\n",
    "plt.show()"
   ]
  },
  {
   "cell_type": "code",
   "execution_count": 135,
   "metadata": {},
   "outputs": [],
   "source": [
    "def draw_uniform_sums(nx):\n",
    "\n",
    "    tot = 10000\n",
    "\n",
    "    xs = []\n",
    "    xsum = np.zeros(tot,)\n",
    "    for x in range(nx):\n",
    "        x = np.random.rand(tot,)\n",
    "        xsum += x\n",
    "        xs.append(x)\n",
    "\n",
    "    fig = plt.figure(figsize=(14,2))\n",
    "    axes = [fig.add_subplot(1,nx,i+1) for i in range(nx)]\n",
    "\n",
    "    for i, (ax, x) in enumerate(zip(axes,xs)):\n",
    "        ax.hist(x, normed=True, bins=25)\n",
    "        ax.set_xlabel(r'$x_%d$'%(i+1))\n",
    "\n",
    "    fig2 = plt.figure(figsize=(4,4))\n",
    "    ax2 = fig2.add_subplot(1,1,1)\n",
    "    ax2.hist(xsum, normed=True, bins=25)\n",
    "    ax2.set_xlabel(r'$\\Sigma x_i$')\n",
    "    \n",
    "    plt.show()"
   ]
  },
  {
   "cell_type": "code",
   "execution_count": 136,
   "metadata": {},
   "outputs": [
    {
     "data": {
      "image/png": "[encoded data removed]",
      "text/plain": [
       "<matplotlib.figure.Figure at 0x117446160>"
      ]
     },
     "metadata": {},
     "output_type": "display_data"
    },
    {
     "data": {
      "image/png": "[encoded data removed]",
      "text/plain": [
       "<matplotlib.figure.Figure at 0x1177cf978>"
      ]
     },
     "metadata": {},
     "output_type": "display_data"
    }
   ],
   "source": [
    "draw_uniform_sums(3)"
   ]
  },
  {
   "cell_type": "code",
   "execution_count": 137,
   "metadata": {},
   "outputs": [
    {
     "data": {
      "image/png": "[encoded data removed]",
      "text/plain": [
       "<matplotlib.figure.Figure at 0x1159283c8>"
      ]
     },
     "metadata": {},
     "output_type": "display_data"
    },
    {
     "data": {
      "image/png": "[encoded data removed]",
      "text/plain": [
       "<matplotlib.figure.Figure at 0x113465278>"
      ]
     },
     "metadata": {},
     "output_type": "display_data"
    }
   ],
   "source": [
    "draw_uniform_sums(6)"
   ]
  },
  {
   "cell_type": "code",
   "execution_count": 138,
   "metadata": {},
   "outputs": [
    {
     "data": {
      "image/png": "[encoded data removed]",
      "text/plain": [
       "<matplotlib.figure.Figure at 0x10f1bf8d0>"
      ]
     },
     "metadata": {},
     "output_type": "display_data"
    },
    {
     "data": {
      "image/png": "[encoded data removed]",
      "text/plain": [
       "<matplotlib.figure.Figure at 0x115a0e4e0>"
      ]
     },
     "metadata": {},
     "output_type": "display_data"
    }
   ],
   "source": [
    "draw_uniform_sums(8)"
   ]
  },
  {
   "cell_type": "code",
   "execution_count": null,
   "metadata": {},
   "outputs": [],
   "source": []
  }
 ],
 "metadata": {
  "kernelspec": {
   "display_name": "Python 3",
   "language": "python",
   "name": "python3"
  },
  "language_info": {
   "codemirror_mode": {
    "name": "ipython",
    "version": 3
   },
   "file_extension": ".py",
   "mimetype": "text/x-python",
   "name": "python",
   "nbconvert_exporter": "python",
   "pygments_lexer": "ipython3",
   "version": "3.6.3"
  }
 },
 "nbformat": 4,
 "nbformat_minor": 2
}
